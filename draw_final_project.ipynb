{
 "cells": [
  {
   "cell_type": "code",
   "execution_count": 964,
   "metadata": {
    "id": "TmAkw1E5qcuT"
   },
   "outputs": [],
   "source": [
    "import pandas as pd\n",
    "import seaborn as sns\n",
    "import matplotlib.pyplot as plt"
   ]
  },
  {
   "cell_type": "code",
   "execution_count": 965,
   "metadata": {
    "id": "_Q1w2SvMsF2S"
   },
   "outputs": [],
   "source": [
    "def get_threads_rows(df, value, dataset):\n",
    "    mask = (df[\"Threads\"] == value) & (df[\"Dataset\"] == dataset)\n",
    "    query = df[mask]\n",
    "    return query"
   ]
  },
  {
   "cell_type": "code",
   "execution_count": 966,
   "metadata": {},
   "outputs": [],
   "source": [
    "def get_branchs_rows(df, value, dataset):\n",
    "    mask = (df[\"Branchs\"] == value) & (df[\"Dataset\"] == dataset)\n",
    "    query = df[mask]\n",
    "    return query"
   ]
  },
  {
   "cell_type": "code",
   "execution_count": 967,
   "metadata": {
    "id": "hmNffBPFuKxg"
   },
   "outputs": [],
   "source": [
    "def draw_time(df):\n",
    "    ax = sns.set(rc={'figure.figsize':(15, 9)})\n",
    "    ax = sns.pointplot(data = df, x = \"Branchs\", y = \"Average Elapsed Time\", hue = \"Algorithm\", ci = 0)\n",
    "    ax.set(title = \"Dataset: {}, Threads: {}\".format(df[\"Dataset\"].iloc[0], df[\"Threads\"].iloc[0]))\n",
    "    ax.set(ylim = (None, df[\"Average Elapsed Time\"].max() * 1.1))\n",
    "    base = df[\"Branchs\"].iloc[0]\n",
    "\n",
    "    # 標示點座標\n",
    "    for c in ax.collections:\n",
    "        for of in c.get_offsets():\n",
    "            ax.annotate(\"({}, {}E-4)\".format(int((of[0] + 1) * base), round(of[1] * (10 ** 4), 4)), [of[0], of[1] * 1.02])\n",
    "\n",
    "    plt.legend(loc = \"center left\")\n",
    "    plt.savefig(\"./img_time/Dataset_{}_Threads_{}_Time\".format(df[\"Dataset\"].iloc[0], df[\"Threads\"].iloc[0]))\n",
    "    plt.clf()"
   ]
  },
  {
   "cell_type": "code",
   "execution_count": 968,
   "metadata": {},
   "outputs": [],
   "source": [
    "def draw_guess(df):\n",
    "    ax = sns.set(rc={'figure.figsize':(15, 9)})\n",
    "    ax = sns.pointplot(data = df, x = \"Branchs\", y = \"Average Guess\", hue = \"Algorithm\", ci = 0)\n",
    "    ax.set(title = \"Dataset: {}, Threads: {}\".format(df[\"Dataset\"].iloc[0], df[\"Threads\"].iloc[0]))\n",
    "    base = df[\"Branchs\"].iloc[0]\n",
    "    \n",
    "    # 標示點座標\n",
    "    for c in ax.collections:\n",
    "        for of in c.get_offsets():\n",
    "            ax.annotate(\"({}, {})\".format(int((of[0] + 1) * base), round(of[1], 4)), [of[0], of[1] * 1.02])\n",
    "            \n",
    "    plt.savefig(\"./img_guess/Dataset_{}_Threads_{}_Guess\".format(df[\"Dataset\"].iloc[0], df[\"Threads\"].iloc[0]))\n",
    "    plt.clf()"
   ]
  },
  {
   "cell_type": "code",
   "execution_count": 969,
   "metadata": {},
   "outputs": [],
   "source": [
    "def draw_depth(df):\n",
    "    ax = sns.set(rc={'figure.figsize':(15, 9)})\n",
    "    ax = sns.pointplot(data = df, x = \"Branchs\", y = \"Average Max Depth\", hue = \"Algorithm\", ci = 0)\n",
    "    ax.set(title = \"Dataset: {}, Threads: {}\".format(df[\"Dataset\"].iloc[0], df[\"Threads\"].iloc[0]))\n",
    "    base = df[\"Branchs\"].iloc[0]\n",
    "\n",
    "    # 標示點座標\n",
    "    for c in ax.collections:\n",
    "        for of in c.get_offsets():\n",
    "            ax.annotate(\"({}, {})\".format(int((of[0] + 1) * base), round(of[1], 4)), [of[0], of[1]])\n",
    "\n",
    "    plt.legend(loc = \"lower left\")\n",
    "    plt.savefig(\"./img_depth/Dataset_{}_Threads_{}_Depth\".format(df[\"Dataset\"].iloc[0], df[\"Threads\"].iloc[0]))\n",
    "    plt.clf()"
   ]
  },
  {
   "cell_type": "code",
   "execution_count": 970,
   "metadata": {},
   "outputs": [],
   "source": [
    "def draw_other(df):\n",
    "    ax = sns.set(rc={'figure.figsize':(15, 9)})\n",
    "    ax = sns.pointplot(data = df, x = \"Average Guess\", y = \"Average Max Depth\", hue = \"Algorithm\", ci = 0, join = False)\n",
    "    ax.set(title = \"Dataset: {}, Threads: {}\".format(df[\"Dataset\"].iloc[0], df[\"Threads\"].iloc[0]))\n",
    "\n",
    "    plt.savefig(\"./img_other/Dataset_{}_Threads_{}_Other\".format(df[\"Dataset\"].iloc[0], df[\"Threads\"].iloc[0]))\n",
    "    plt.clf()"
   ]
  },
  {
   "cell_type": "code",
   "execution_count": 971,
   "metadata": {},
   "outputs": [],
   "source": [
    "def draw_time2(df):\n",
    "    ax = sns.set(rc={'figure.figsize':(15, 9)})\n",
    "    ax = sns.pointplot(data = df, x = \"Threads\", y = \"Average Elapsed Time\", hue = \"Algorithm\", ci = 0)\n",
    "    ax.set(title = \"Dataset: {}, Branchs: {}\".format(df[\"Dataset\"].iloc[0], df[\"Branchs\"].iloc[0]))\n",
    "    ax.set(ylim = (None, df[\"Average Elapsed Time\"].max() * 1.1))\n",
    "    base = df[\"Threads\"].iloc[0]\n",
    "    \n",
    "    # 標示點座標\n",
    "    for c in ax.collections:\n",
    "        for of in c.get_offsets():\n",
    "            ax.annotate(\"({}, {}E-4)\".format(int((2 ** of[0]) * base), round(of[1] * (10 ** 4), 4)), [of[0], of[1]])\n",
    "                        \n",
    "    plt.legend(loc = \"center left\")\n",
    "    plt.savefig(\"./img_time2/Dataset_{}_Branchs_{}_Time\".format(df[\"Dataset\"].iloc[0], df[\"Branchs\"].iloc[0]))\n",
    "    plt.clf()"
   ]
  },
  {
   "cell_type": "code",
   "execution_count": 972,
   "metadata": {},
   "outputs": [],
   "source": [
    "def draw_guess2(df):\n",
    "    ax = sns.set(rc={'figure.figsize':(15, 9)})\n",
    "    ax = sns.pointplot(data = df, x = \"Threads\", y = \"Average Guess\", hue = \"Algorithm\", ci = 0)\n",
    "    ax.set(title = \"Dataset: {}, Branchs: {}\".format(df[\"Dataset\"].iloc[0], df[\"Branchs\"].iloc[0]))\n",
    "    base = df[\"Threads\"].iloc[0]\n",
    "    \n",
    "    # 標示點座標\n",
    "    for c in ax.collections:\n",
    "        for of in c.get_offsets():\n",
    "            ax.annotate(\"({}, {})\".format(int((2 ** of[0]) * base), round(of[1], 4)), [of[0], of[1] + 0.1])\n",
    "                        \n",
    "    plt.legend(loc = \"center left\")\n",
    "    plt.savefig(\"./img_guess2/Dataset_{}_Branchs_{}_Guess\".format(df[\"Dataset\"].iloc[0], df[\"Branchs\"].iloc[0]))\n",
    "    plt.clf()"
   ]
  },
  {
   "cell_type": "code",
   "execution_count": 973,
   "metadata": {},
   "outputs": [],
   "source": [
    "def draw_depth2(df):\n",
    "    ax = sns.set(rc={'figure.figsize':(15, 9)})\n",
    "    ax = sns.pointplot(data = df, x = \"Threads\", y = \"Average Max Depth\", hue = \"Algorithm\", ci = 0)\n",
    "    ax.set(title = \"Dataset: {}, Branchs: {}\".format(df[\"Dataset\"].iloc[0], df[\"Branchs\"].iloc[0]))\n",
    "    #ax.set(ylim = (None, df[\"Average Max Depth\"].max() * 1.05))\n",
    "    base = df[\"Threads\"].iloc[0]\n",
    "\n",
    "    # 標示點座標\n",
    "    for c in ax.collections:\n",
    "        for of in c.get_offsets():\n",
    "            ax.annotate(\"({}, {})\".format(int((2 ** of[0]) * base), round(of[1], 4)), [of[0], of[1] + 0.001])\n",
    "                        \n",
    "    plt.legend(loc = \"center left\")\n",
    "    plt.savefig(\"./img_depth2/Dataset_{}_Branchs_{}_Depth\".format(df[\"Dataset\"].iloc[0], df[\"Branchs\"].iloc[0]))\n",
    "    plt.clf()"
   ]
  },
  {
   "cell_type": "code",
   "execution_count": 974,
   "metadata": {
    "id": "Et4Nr7YWsO0S"
   },
   "outputs": [],
   "source": [
    "def get_df_list(): # x-axis is branchs\n",
    "    df = pd.read_csv('data.csv')\n",
    "    dataset1 = \"puzzles2_17_clue\"\n",
    "    dataset2 = \"puzzles5_forum_hardest_1905_11+\"\n",
    "\n",
    "    df_list = []\n",
    "    for dataset in [dataset1, dataset2]:\n",
    "        for i in [2, 4, 8, 16, 32, 48, 64, 96]:\n",
    "            tmp = get_threads_rows(df, i, dataset)\n",
    "            df_list.append(tmp)\n",
    "\n",
    "    return df_list"
   ]
  },
  {
   "cell_type": "code",
   "execution_count": 975,
   "metadata": {},
   "outputs": [],
   "source": [
    "def get_df_list2(): # x-axis is threads\n",
    "    df = pd.read_csv('data.csv')\n",
    "    dataset1 = \"puzzles2_17_clue\"\n",
    "    dataset2 = \"puzzles5_forum_hardest_1905_11+\"\n",
    "\n",
    "    df_list = []\n",
    "    for dataset in [dataset1, dataset2]:\n",
    "        for i in [2, 4, 8, 16, 32, 48, 64, 96]:\n",
    "            tmp = get_branchs_rows(df, i, dataset)\n",
    "            df_list.append(tmp)\n",
    "\n",
    "    return df_list"
   ]
  },
  {
   "cell_type": "code",
   "execution_count": 976,
   "metadata": {
    "colab": {
     "base_uri": "https://localhost:8080/",
     "height": 410
    },
    "id": "7LPFusGqtuCD",
    "outputId": "102a96a7-235e-48ea-9dd3-1de2585889fc"
   },
   "outputs": [
    {
     "data": {
      "text/plain": [
       "<Figure size 1080x648 with 0 Axes>"
      ]
     },
     "metadata": {},
     "output_type": "display_data"
    }
   ],
   "source": [
    "### main\n",
    "df_list = get_df_list()\n",
    "df_list2 = get_df_list2()\n",
    "\n",
    "# x-axis is branchs\n",
    "for df in df_list:\n",
    "    break\n",
    "    draw_time(df)\n",
    "    draw_guess(df)\n",
    "    draw_depth(df)\n",
    "    draw_other(df)\n",
    "\n",
    "# x-axis is threads\n",
    "for df in df_list2:\n",
    "    draw_time2(df)\n",
    "    draw_guess2(df)\n",
    "    draw_depth2(df)"
   ]
  },
  {
   "cell_type": "code",
   "execution_count": null,
   "metadata": {},
   "outputs": [],
   "source": []
  }
 ],
 "metadata": {
  "colab": {
   "provenance": []
  },
  "kernelspec": {
   "display_name": "Python 3",
   "language": "python",
   "name": "python3"
  },
  "language_info": {
   "codemirror_mode": {
    "name": "ipython",
    "version": 3
   },
   "file_extension": ".py",
   "mimetype": "text/x-python",
   "name": "python",
   "nbconvert_exporter": "python",
   "pygments_lexer": "ipython3",
   "version": "3.7.3"
  },
  "vscode": {
   "interpreter": {
    "hash": "11938c6bc6919ae2720b4d5011047913343b08a43b18698fd82dedb0d4417594"
   }
  }
 },
 "nbformat": 4,
 "nbformat_minor": 4
}
