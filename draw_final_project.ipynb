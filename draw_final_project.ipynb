{
 "cells": [
  {
   "cell_type": "code",
   "execution_count": 155,
   "metadata": {
    "id": "TmAkw1E5qcuT"
   },
   "outputs": [],
   "source": [
    "import pandas as pd\n",
    "import seaborn as sns\n",
    "import matplotlib.pyplot as plt"
   ]
  },
  {
   "cell_type": "code",
   "execution_count": 156,
   "metadata": {
    "id": "_Q1w2SvMsF2S"
   },
   "outputs": [],
   "source": [
    "def get_threads_rows(df, value, dataset):\n",
    "    mask = (df[\"Threads\"] == value) & (df[\"Dataset\"] == dataset)\n",
    "    query = df[mask]\n",
    "    return query"
   ]
  },
  {
   "cell_type": "code",
   "execution_count": 157,
   "metadata": {
    "id": "hmNffBPFuKxg"
   },
   "outputs": [],
   "source": [
    "def draw_time(df):\n",
    "    ax = sns.set(rc={'figure.figsize':(15, 9)})\n",
    "    ax = sns.pointplot(data = df, x = \"Branchs\", y = \"Average Elapsed Time\", hue = \"Algorithm\", ci = 0)\n",
    "    ax.set(title = \"Dataset: {}, Threads: {}\".format(df[\"Dataset\"].iloc[0], df[\"Threads\"].iloc[0]))\n",
    "    ax.set(ylim = (None, df[\"Average Elapsed Time\"].max() * 1.1))\n",
    "\n",
    "    for c in ax.collections:\n",
    "        for of in c.get_offsets():\n",
    "            ax.annotate(\"({}, {}E-4)\".format(int((of[0] + 1) * 2), round(of[1] * (10 ** 4), 4)), [of[0], of[1] * 1.02])\n",
    "\n",
    "    plt.legend(loc = \"center left\")\n",
    "    #plt.show()\n",
    "    plt.savefig(\"./img/Dataset_{}_Threads_{}_Other\".format(df[\"Dataset\"].iloc[0], df[\"Threads\"].iloc[0]))\n",
    "    plt.clf()"
   ]
  },
  {
   "cell_type": "code",
   "execution_count": 158,
   "metadata": {},
   "outputs": [],
   "source": [
    "def draw_other(df):\n",
    "    ax = sns.set(rc={'figure.figsize':(15, 9)})\n",
    "    ax = sns.pointplot(data = df, x = \"Branchs\", y = \"Average Elapsed Time\", hue = \"Algorithm\", ci = 0)\n",
    "    ax.set(title = \"Dataset: {}, Threads: {}\".format(df[\"Dataset\"].iloc[0], df[\"Threads\"].iloc[0]))\n",
    "    ax.set(ylim = (None, df[\"Average Elapsed Time\"].max() * 1.1))\n",
    "\n",
    "    for c in ax.collections:\n",
    "        for of in c.get_offsets():\n",
    "            ax.annotate(\"({}, {}E-4)\".format(int((of[0] + 1) * 2), round(of[1] * (10 ** 4), 4)), [of[0], of[1] * 1.02])\n",
    "\n",
    "    plt.legend(loc = \"center left\")\n",
    "    #plt.show()\n",
    "    plt.savefig(\"./img/Dataset_{}_Threads_{}_Other\".format(df[\"Dataset\"].iloc[0], df[\"Threads\"].iloc[0]))\n",
    "    plt.clf()"
   ]
  },
  {
   "cell_type": "code",
   "execution_count": 159,
   "metadata": {
    "id": "Et4Nr7YWsO0S"
   },
   "outputs": [],
   "source": [
    "def get_df_list():\n",
    "    df = pd.read_csv('data2.csv')\n",
    "    dataset1 = \"puzzles2_17_clue\"\n",
    "    dataset2 = \"puzzles5_forum_hardest_1905_11+\"\n",
    "\n",
    "    df_list = []\n",
    "    for dataset in [dataset1, dataset2]:\n",
    "        for i in [2, 4, 8, 16, 32]:\n",
    "            tmp = get_threads_rows(df, i, dataset)\n",
    "            df_list.append(tmp)\n",
    "\n",
    "    return df_list"
   ]
  },
  {
   "cell_type": "code",
   "execution_count": 160,
   "metadata": {
    "colab": {
     "base_uri": "https://localhost:8080/",
     "height": 410
    },
    "id": "7LPFusGqtuCD",
    "outputId": "102a96a7-235e-48ea-9dd3-1de2585889fc"
   },
   "outputs": [
    {
     "data": {
      "text/plain": [
       "<Figure size 1080x648 with 0 Axes>"
      ]
     },
     "metadata": {},
     "output_type": "display_data"
    }
   ],
   "source": [
    "df_list = get_df_list()\n",
    "for df in df_list:\n",
    "    draw_time(df)\n",
    "    #draw_other(df)"
   ]
  },
  {
   "cell_type": "code",
   "execution_count": null,
   "metadata": {},
   "outputs": [],
   "source": []
  }
 ],
 "metadata": {
  "colab": {
   "provenance": []
  },
  "kernelspec": {
   "display_name": "Python 3",
   "language": "python",
   "name": "python3"
  },
  "language_info": {
   "codemirror_mode": {
    "name": "ipython",
    "version": 3
   },
   "file_extension": ".py",
   "mimetype": "text/x-python",
   "name": "python",
   "nbconvert_exporter": "python",
   "pygments_lexer": "ipython3",
   "version": "3.9.7 (tags/v3.9.7:1016ef3, Aug 30 2021, 20:19:38) [MSC v.1929 64 bit (AMD64)]"
  },
  "vscode": {
   "interpreter": {
    "hash": "11938c6bc6919ae2720b4d5011047913343b08a43b18698fd82dedb0d4417594"
   }
  }
 },
 "nbformat": 4,
 "nbformat_minor": 4
}
